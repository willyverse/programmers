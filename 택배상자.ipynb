{
 "cells": [
  {
   "cell_type": "code",
   "execution_count": null,
   "metadata": {},
   "outputs": [],
   "source": [
    "from collections import deque\n",
    "\n",
    "def solution(order):\n",
    "    Q = deque([i+1 for i in range(len(order))])\n",
    "    st = deque()\n",
    "    cnt = 0\n",
    "    while Q:\n",
    "        if order[cnt] != Q[0]:\n",
    "            if st and order[cnt] == st[-1]:\n",
    "                cnt += 1\n",
    "                st.pop()\n",
    "            else:\n",
    "                st.append(Q.popleft())\n",
    "        else:\n",
    "            cnt += 1\n",
    "            Q.popleft()\n",
    "    \n",
    "    while st:\n",
    "        if order[cnt] == st[-1]:\n",
    "            cnt += 1\n",
    "            st.pop()\n",
    "        else:\n",
    "            break\n",
    "    return  cnt"
   ]
  }
 ],
 "metadata": {
  "language_info": {
   "name": "python"
  },
  "orig_nbformat": 4
 },
 "nbformat": 4,
 "nbformat_minor": 2
}
