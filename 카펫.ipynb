{
 "cells": [
  {
   "cell_type": "code",
   "execution_count": 142,
   "metadata": {},
   "outputs": [],
   "source": [
    "brown = 14\n",
    "yellow = 6"
   ]
  },
  {
   "cell_type": "code",
   "execution_count": 143,
   "metadata": {},
   "outputs": [],
   "source": [
    "def solution(brown, yellow):\n",
    "    total = brown + yellow # 전체 면적을 구한 후\n",
    "    for width in reversed(range(1, total)): # 가로가 세로보다 더 길기 때문에 가로를 큰 수부터 작은 수로 내려가기 위해 reversed를 사용함\n",
    "        if total % width: \n",
    "            continue # 전체를 가로로 나눴을 때 0이 아니라면 다음 가로(-1)로 넘어감\n",
    "        height = int(total/width) # 세로는 전체/가로\n",
    "        y = (width-2) * (height-2) # expected 노랑 면적 = (가로-2) * (세로-2)\n",
    "        b = total - y # expected 갈색 면적 = 전체 - expected 노랑\n",
    "        if y==yellow and b==brown:\n",
    "            return [width, height]"
   ]
  }
 ],
 "metadata": {
  "interpreter": {
   "hash": "2be5faf79681da6f2a61fdfdd5405d65d042280f7fba6178067603e3a2925119"
  },
  "kernelspec": {
   "display_name": "Python 3.10.1 64-bit",
   "language": "python",
   "name": "python3"
  },
  "language_info": {
   "codemirror_mode": {
    "name": "ipython",
    "version": 3
   },
   "file_extension": ".py",
   "mimetype": "text/x-python",
   "name": "python",
   "nbconvert_exporter": "python",
   "pygments_lexer": "ipython3",
   "version": "3.10.1"
  },
  "orig_nbformat": 4
 },
 "nbformat": 4,
 "nbformat_minor": 2
}
