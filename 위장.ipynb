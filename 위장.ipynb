{
 "cells": [
  {
   "cell_type": "code",
   "execution_count": 146,
   "metadata": {},
   "outputs": [],
   "source": [
    "from itertools import combinations as com\n",
    "clothes = [[\"yellowhat\", \"headgear\"], [\"bluesunglasses\", \"eyewear\"], [\"green_turban\", \"headgear\"]]"
   ]
  },
  {
   "cell_type": "code",
   "execution_count": 147,
   "metadata": {},
   "outputs": [],
   "source": [
    "def x(li):\n",
    "    result = 1\n",
    "    for num in li:\n",
    "        result *= num\n",
    "    return result\n",
    "\n",
    "cloth_dict = {}\n",
    "cloth_types = list(set([cloth[1] for cloth in clothes]))\n",
    "for ct in cloth_types:\n",
    "    cloth_dict[ct] = []\n",
    "for cloth in clothes:\n",
    "    cloth_dict[cloth[1]].append(cloth[0])"
   ]
  },
  {
   "cell_type": "code",
   "execution_count": 148,
   "metadata": {},
   "outputs": [
    {
     "data": {
      "text/plain": [
       "5"
      ]
     },
     "execution_count": 148,
     "metadata": {},
     "output_type": "execute_result"
    }
   ],
   "source": [
    "every_combination = []\n",
    "for i in range(len(cloth_types)):\n",
    "    every_combination.extend(list(com(cloth_types, i+1)))\n",
    "every_combination = [list(e) for e in every_combination]\n",
    "for i in range(len(every_combination)):\n",
    "    for j in range(len(every_combination[i])):\n",
    "        every_combination[i][j] = len(cloth_dict[every_combination[i][j]])\n",
    "sum([x(li) for li in every_combination])"
   ]
  },
  {
   "cell_type": "code",
   "execution_count": 151,
   "metadata": {},
   "outputs": [
    {
     "data": {
      "text/plain": [
       "{'headgear': 2, 'eyewear': 1}"
      ]
     },
     "execution_count": 151,
     "metadata": {},
     "output_type": "execute_result"
    }
   ],
   "source": [
    "from collections import Counter\n",
    "\n",
    "dict(Counter([cloth[1] for cloth in clothes]))"
   ]
  },
  {
   "cell_type": "code",
   "execution_count": null,
   "metadata": {},
   "outputs": [],
   "source": []
  }
 ],
 "metadata": {
  "interpreter": {
   "hash": "2be5faf79681da6f2a61fdfdd5405d65d042280f7fba6178067603e3a2925119"
  },
  "kernelspec": {
   "display_name": "Python 3.10.1 64-bit",
   "language": "python",
   "name": "python3"
  },
  "language_info": {
   "codemirror_mode": {
    "name": "ipython",
    "version": 3
   },
   "file_extension": ".py",
   "mimetype": "text/x-python",
   "name": "python",
   "nbconvert_exporter": "python",
   "pygments_lexer": "ipython3",
   "version": "3.10.1"
  },
  "orig_nbformat": 4
 },
 "nbformat": 4,
 "nbformat_minor": 2
}
