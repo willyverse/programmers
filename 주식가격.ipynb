{
 "cells": [
  {
   "cell_type": "code",
   "execution_count": 141,
   "metadata": {},
   "outputs": [],
   "source": [
    "prices = [1, 2, 3, 2, 3]"
   ]
  },
  {
   "cell_type": "markdown",
   "metadata": {},
   "source": [
    "내 풀이 - queue를 사용함\n",
    "- 시간복잡도\n",
    "   - 최선의 경우: O(N)\n",
    "   - 최악의 경우: O(N^2)\n"
   ]
  },
  {
   "cell_type": "code",
   "execution_count": 142,
   "metadata": {},
   "outputs": [],
   "source": [
    "from collections import deque\n",
    "\n",
    "def solution_queue(prices):\n",
    "    answer = []\n",
    "    prices = deque(prices)\n",
    "\n",
    "    while prices:\n",
    "        price = prices.popleft()\n",
    "        count = 0\n",
    "        for p in prices:\n",
    "            count += 1\n",
    "            if price > p:\n",
    "                break\n",
    "        answer.append(count)\n",
    "    return answer"
   ]
  },
  {
   "cell_type": "markdown",
   "metadata": {},
   "source": [
    "스택을 이용한 풀이 (시간복잡도는 여전히 O(N) ~ O(N^2) 이다.)"
   ]
  },
  {
   "cell_type": "code",
   "execution_count": 143,
   "metadata": {},
   "outputs": [],
   "source": [
    "def solution_stack(prices):\n",
    "\n",
    "    stack = []\n",
    "    answer = [0] * len(prices)\n",
    "\n",
    "    for i, price in enumerate(prices):\n",
    "\n",
    "        while stack and price < prices[stack[-1]]: # stack이 존재하고, 현재 가격이 \n",
    "            j = stack.pop()\n",
    "            answer[j] = i - j\n",
    "        \n",
    "        stack.append(i)\n",
    "\n",
    "    while stack:\n",
    "        j = stack.pop()\n",
    "        answer[j] = len(prices) - 1 - j\n",
    "\n",
    "    return answer"
   ]
  },
  {
   "cell_type": "code",
   "execution_count": 144,
   "metadata": {},
   "outputs": [
    {
     "data": {
      "text/plain": [
       "[4, 3, 1, 1, 0]"
      ]
     },
     "execution_count": 144,
     "metadata": {},
     "output_type": "execute_result"
    }
   ],
   "source": [
    "solution_queue(prices)"
   ]
  },
  {
   "cell_type": "code",
   "execution_count": 145,
   "metadata": {},
   "outputs": [
    {
     "data": {
      "text/plain": [
       "[4, 3, 1, 1, 0]"
      ]
     },
     "execution_count": 145,
     "metadata": {},
     "output_type": "execute_result"
    }
   ],
   "source": [
    "solution_stack(prices)"
   ]
  }
 ],
 "metadata": {
  "interpreter": {
   "hash": "2be5faf79681da6f2a61fdfdd5405d65d042280f7fba6178067603e3a2925119"
  },
  "kernelspec": {
   "display_name": "Python 3.10.1 64-bit",
   "language": "python",
   "name": "python3"
  },
  "language_info": {
   "codemirror_mode": {
    "name": "ipython",
    "version": 3
   },
   "file_extension": ".py",
   "mimetype": "text/x-python",
   "name": "python",
   "nbconvert_exporter": "python",
   "pygments_lexer": "ipython3",
   "version": "3.10.1"
  },
  "orig_nbformat": 4
 },
 "nbformat": 4,
 "nbformat_minor": 2
}
