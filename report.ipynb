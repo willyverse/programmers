{
 "cells": [
  {
   "cell_type": "code",
   "execution_count": 41,
   "metadata": {},
   "outputs": [],
   "source": [
    "id_list = [\"muzi\", \"frodo\", \"apeach\", \"neo\"]\n",
    "report  = [\"muzi frodo\",\"apeach frodo\",\"frodo neo\",\"muzi neo\",\"apeach muzi\"]\n",
    "k       = 3"
   ]
  },
  {
   "cell_type": "code",
   "execution_count": 38,
   "metadata": {},
   "outputs": [],
   "source": [
    "answer      = []\n",
    "vote        = {}\n",
    "voted       = {}\n",
    "get_email   = []\n",
    "\n",
    "report = [each.split() for each in set(report)]\n",
    "\n",
    "for name in id_list:\n",
    "    vote[name] = []\n",
    "    voted[name] = 0\n",
    "\n",
    "for name, re in report:\n",
    "    vote[name].append(re)\n",
    "    voted[re] += 1\n",
    "\n",
    "for i, v in voted.items():\n",
    "    if v >= 2:\n",
    "        for j, vts in vote.items():\n",
    "            if i in vts:\n",
    "                get_email.append(j)\n",
    "\n",
    "from collections import Counter\n",
    "\n",
    "get_email = Counter(get_email)\n",
    "\n",
    "for name in id_list:\n",
    "    if name in get_email.keys():\n",
    "        answer.append(get_email[name])\n",
    "    else:\n",
    "        answer.append(0)"
   ]
  }
 ],
 "metadata": {
  "kernelspec": {
   "display_name": "Python 3.10.1 64-bit",
   "language": "python",
   "name": "python3"
  },
  "language_info": {
   "codemirror_mode": {
    "name": "ipython",
    "version": 3
   },
   "file_extension": ".py",
   "mimetype": "text/x-python",
   "name": "python",
   "nbconvert_exporter": "python",
   "pygments_lexer": "ipython3",
   "version": "3.10.1"
  },
  "orig_nbformat": 4,
  "vscode": {
   "interpreter": {
    "hash": "369f2c481f4da34e4445cda3fffd2e751bd1c4d706f27375911949ba6bb62e1c"
   }
  }
 },
 "nbformat": 4,
 "nbformat_minor": 2
}
