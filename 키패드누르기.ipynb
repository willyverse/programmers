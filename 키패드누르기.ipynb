{
 "cells": [
  {
   "cell_type": "markdown",
   "metadata": {},
   "source": [
    "url: https://programmers.co.kr/learn/courses/30/lessons/67256"
   ]
  },
  {
   "cell_type": "code",
   "execution_count": 9,
   "metadata": {},
   "outputs": [],
   "source": [
    "numbers = [7, 0, 8, 2, 8, 3, 1, 5, 7, 6, 2]\n",
    "hand = 'left'\n",
    "answer = \"LRLLRRLLLRR\""
   ]
  },
  {
   "cell_type": "code",
   "execution_count": 16,
   "metadata": {},
   "outputs": [],
   "source": [
    "def solution(numbers, hand):\n",
    "    def diff(start, end):\n",
    "        x = start[0] - end[0]\n",
    "        if x < 0:\n",
    "            x = -x\n",
    "        y = start[1] - end[1]\n",
    "        if y < 0:\n",
    "            y = -y\n",
    "        return x + y\n",
    "    \n",
    "    answer = ''\n",
    "    L = (0, 0)\n",
    "    R = (0, 2)\n",
    "    loc = {\n",
    "        0: (0, 1),\n",
    "        1: (3, 0),\n",
    "        2: (3, 1),\n",
    "        3: (3, 2),\n",
    "        4: (2, 0),\n",
    "        5: (2, 1),\n",
    "        6: (2, 2),\n",
    "        7: (1, 0),\n",
    "        8: (1, 1),\n",
    "        9: (1, 2)\n",
    "    }\n",
    "\n",
    "    for num in numbers:\n",
    "        if num in (1, 4, 7):\n",
    "            L = loc[num]\n",
    "            answer += 'L'\n",
    "        elif num in (3, 6, 9):\n",
    "            R = loc[num]\n",
    "            answer += 'R'\n",
    "        else:\n",
    "            L_diff = diff(L, loc[num])\n",
    "            R_diff = diff(R, loc[num])\n",
    "            \n",
    "            print(num)\n",
    "            print(\"L: \", L, \", R: \", R)\n",
    "            print(\"L: \", L_diff, \", R: \", R_diff)\n",
    "\n",
    "            if L_diff < R_diff:\n",
    "                L = loc[num]\n",
    "                answer += 'L'\n",
    "            elif R_diff < L_diff:\n",
    "                R = loc[num]\n",
    "                answer += 'R'\n",
    "            else:\n",
    "                if hand == 'right':\n",
    "                    R = loc[num]\n",
    "                    answer += 'R'\n",
    "                else:\n",
    "                    L = loc[num]\n",
    "                    answer += 'L'\n",
    "\n",
    "    return answer"
   ]
  }
 ],
 "metadata": {
  "interpreter": {
   "hash": "2be5faf79681da6f2a61fdfdd5405d65d042280f7fba6178067603e3a2925119"
  },
  "kernelspec": {
   "display_name": "Python 3.10.1 64-bit",
   "language": "python",
   "name": "python3"
  },
  "language_info": {
   "codemirror_mode": {
    "name": "ipython",
    "version": 3
   },
   "file_extension": ".py",
   "mimetype": "text/x-python",
   "name": "python",
   "nbconvert_exporter": "python",
   "pygments_lexer": "ipython3",
   "version": "3.10.1"
  },
  "orig_nbformat": 4
 },
 "nbformat": 4,
 "nbformat_minor": 2
}
