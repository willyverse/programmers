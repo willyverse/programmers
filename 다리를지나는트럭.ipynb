{
 "cells": [
  {
   "cell_type": "code",
   "execution_count": 75,
   "metadata": {},
   "outputs": [],
   "source": [
    "bridge_length = 100\n",
    "weight = 100\n",
    "truck_weights = [10] * 10"
   ]
  },
  {
   "cell_type": "code",
   "execution_count": 76,
   "metadata": {},
   "outputs": [],
   "source": [
    "from collections import deque\n",
    "\n",
    "time = 1\n",
    "bridge = deque([0] * bridge_length)\n",
    "trucks = deque(truck_weights)\n",
    "trucks_num = len(trucks)\n",
    "left_weight = weight\n",
    "done_trucks = []\n",
    "\n",
    "while len(done_trucks) < trucks_num:\n",
    "    try:\n",
    "        if left_weight >= trucks[0]: # 트럭 투입\n",
    "            tmp = trucks.popleft()\n",
    "            bridge[0] = tmp # 다리 첫 칸에 트럭 배정\n",
    "            left_weight -= tmp # 남은 무게에서 트럭 무게 차감\n",
    "    except: # truck이 빈 리스트가 되었을 때의 예외 처리\n",
    "        pass\n",
    "    done_truck = bridge.pop() # 가장 끝 칸 추출\n",
    "    if done_truck > 0:\n",
    "        done_trucks.append(done_truck) # 끝 칸에 트럭이 있었다면 끝난 트럭 리스트에 추가\n",
    "        left_weight += done_truck # 남은 무게에 트럭 무게 추가\n",
    "    bridge.appendleft(0) # 첫 칸 삽입\n",
    "    time += 1 # 1초 지남\n"
   ]
  },
  {
   "cell_type": "code",
   "execution_count": 78,
   "metadata": {},
   "outputs": [
    {
     "data": {
      "text/plain": [
       "110"
      ]
     },
     "execution_count": 78,
     "metadata": {},
     "output_type": "execute_result"
    }
   ],
   "source": [
    "time"
   ]
  }
 ],
 "metadata": {
  "interpreter": {
   "hash": "2be5faf79681da6f2a61fdfdd5405d65d042280f7fba6178067603e3a2925119"
  },
  "kernelspec": {
   "display_name": "Python 3.10.1 64-bit",
   "language": "python",
   "name": "python3"
  },
  "language_info": {
   "codemirror_mode": {
    "name": "ipython",
    "version": 3
   },
   "file_extension": ".py",
   "mimetype": "text/x-python",
   "name": "python",
   "nbconvert_exporter": "python",
   "pygments_lexer": "ipython3",
   "version": "3.10.1"
  },
  "orig_nbformat": 4
 },
 "nbformat": 4,
 "nbformat_minor": 2
}
